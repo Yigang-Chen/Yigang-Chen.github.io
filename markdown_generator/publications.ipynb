{
 "cells": [
  {
   "cell_type": "markdown",
   "metadata": {
    "deletable": true,
    "editable": true
   },
   "source": [
    "# Publications markdown generator for academicpages\n",
    "\n",
    "Takes a TSV of publications with metadata and converts them for use with [academicpages.github.io](academicpages.github.io). This is an interactive Jupyter notebook ([see more info here](http://jupyter-notebook-beginner-guide.readthedocs.io/en/latest/what_is_jupyter.html)). The core python code is also in `publications.py`. Run either from the `markdown_generator` folder after replacing `publications.tsv` with one containing your data.\n",
    "\n",
    "TODO: Make this work with BibTex and other databases of citations, rather than Stuart's non-standard TSV format and citation style.\n"
   ]
  },
  {
   "cell_type": "markdown",
   "metadata": {},
   "source": [
    "## Data format\n",
    "\n",
    "The TSV needs to have the following columns: pub_date, title, venue, excerpt, citation, site_url, and paper_url, with a header at the top. \n",
    "\n",
    "- `excerpt` and `paper_url` can be blank, but the others must have values. \n",
    "- `pub_date` must be formatted as YYYY-MM-DD.\n",
    "- `url_slug` will be the descriptive part of the .md file and the permalink URL for the page about the paper. The .md file will be `YYYY-MM-DD-[url_slug].md` and the permalink will be `https://[yourdomain]/publications/YYYY-MM-DD-[url_slug]`\n",
    "\n",
    "This is how the raw file looks (it doesn't look pretty, use a spreadsheet or other program to edit and create)."
   ]
  },
  {
   "cell_type": "code",
   "execution_count": 10,
   "metadata": {
    "collapsed": false
   },
   "outputs": [
    {
     "name": "stdout",
     "output_type": "stream",
     "text": [
      "pub_date\ttitle\tvenue\texcerpt\tcitation\turl_slug\tpaper_url\tslides_url\n",
      "2009-10-01\tPaper Title Number 1\tJournal 1\tThis paper is about the number 1. The number 2 is left for future work.\tYour Name, You. (2009). \"Paper Title Number 1.\" <i>Journal 1</i>. 1(1).\tpaper-title-number-1\thttp://academicpages.github.io/files/paper1.pdf\thttp://academicpages.github.io/files/slides1.pdf\n",
      "2010-10-01\tPaper Title Number 2\tJournal 1\tThis paper is about the number 2. The number 3 is left for future work.\tYour Name, You. (2010). \"Paper Title Number 2.\" <i>Journal 1</i>. 1(2).\tpaper-title-number-2\thttp://academicpages.github.io/files/paper2.pdf\thttp://academicpages.github.io/files/slides2.pdf\n",
      "2015-10-01\tPaper Title Number 3\tJournal 1\tThis paper is about the number 3. The number 4 is left for future work.\tYour Name, You. (2015). \"Paper Title Number 3.\" <i>Journal 1</i>. 1(3).\tpaper-title-number-3\thttp://academicpages.github.io/files/paper3.pdf\thttp://academicpages.github.io/files/slides3.pdf"
     ]
    }
   ],
   "source": [
    "!cat publications.tsv"
   ]
  },
  {
   "cell_type": "markdown",
   "metadata": {},
   "source": [
    "## Import pandas\n",
    "\n",
    "We are using the very handy pandas library for dataframes."
   ]
  },
  {
   "cell_type": "code",
   "execution_count": 1,
   "metadata": {
    "collapsed": true,
    "deletable": true,
    "editable": true
   },
   "outputs": [],
   "source": [
    "import pandas as pd"
   ]
  },
  {
   "cell_type": "markdown",
   "metadata": {},
   "source": [
    "## Import TSV\n",
    "\n",
    "Pandas makes this easy with the read_csv function. We are using a TSV, so we specify the separator as a tab, or `\\t`.\n",
    "\n",
    "I found it important to put this data in a tab-separated values format, because there are a lot of commas in this kind of data and comma-separated values can get messed up. However, you can modify the import statement, as pandas also has read_excel(), read_json(), and others."
   ]
  },
  {
   "cell_type": "code",
   "execution_count": 3,
   "metadata": {
    "collapsed": false,
    "deletable": true,
    "editable": true
   },
   "outputs": [
    {
     "data": {
      "text/html": [
       "<div>\n",
       "<style scoped>\n",
       "    .dataframe tbody tr th:only-of-type {\n",
       "        vertical-align: middle;\n",
       "    }\n",
       "\n",
       "    .dataframe tbody tr th {\n",
       "        vertical-align: top;\n",
       "    }\n",
       "\n",
       "    .dataframe thead th {\n",
       "        text-align: right;\n",
       "    }\n",
       "</style>\n",
       "<table border=\"1\" class=\"dataframe\">\n",
       "  <thead>\n",
       "    <tr style=\"text-align: right;\">\n",
       "      <th></th>\n",
       "      <th>pub_date</th>\n",
       "      <th>title</th>\n",
       "      <th>venue</th>\n",
       "      <th>excerpt</th>\n",
       "      <th>citation</th>\n",
       "      <th>url_slug</th>\n",
       "      <th>paper_url</th>\n",
       "      <th>slides_url</th>\n",
       "    </tr>\n",
       "  </thead>\n",
       "  <tbody>\n",
       "    <tr>\n",
       "      <th>0</th>\n",
       "      <td>2024-01-01</td>\n",
       "      <td>A Causal Regulation Modeling Algorithm for Tem...</td>\n",
       "      <td>International Journal of Molecular Sciences</td>\n",
       "      <td>NaN</td>\n",
       "      <td>Chen, Y., Mao, R., Xu, J., Huang, Y., Xu, J., ...</td>\n",
       "      <td>chen2024-causal</td>\n",
       "      <td>NaN</td>\n",
       "      <td>NaN</td>\n",
       "    </tr>\n",
       "    <tr>\n",
       "      <th>1</th>\n",
       "      <td>2022-01-01</td>\n",
       "      <td>CircNet 2.0: An Updated Database for Exploring...</td>\n",
       "      <td>Nucleic Acids Research</td>\n",
       "      <td>NaN</td>\n",
       "      <td>Chen, Y., Yao, L., Tang, Y., Jhong, J.-H., Wan...</td>\n",
       "      <td>chen2022-circnet</td>\n",
       "      <td>NaN</td>\n",
       "      <td>NaN</td>\n",
       "    </tr>\n",
       "    <tr>\n",
       "      <th>2</th>\n",
       "      <td>2023-01-01</td>\n",
       "      <td>Quantitative Model for Genome-Wide Cyclic AMP ...</td>\n",
       "      <td>Briefings in Bioinformatics</td>\n",
       "      <td>NaN</td>\n",
       "      <td>Chen, Y., Lin, Y.-C.-D., Luo, Y., Cai, X., Qiu...</td>\n",
       "      <td>chen2023-crp</td>\n",
       "      <td>NaN</td>\n",
       "      <td>NaN</td>\n",
       "    </tr>\n",
       "    <tr>\n",
       "      <th>3</th>\n",
       "      <td>2024-11-01</td>\n",
       "      <td>DeepDrugmiR: A Two-Stage Deep Learning Method ...</td>\n",
       "      <td>Proceedings of the 15th ACM International Conf...</td>\n",
       "      <td>NaN</td>\n",
       "      <td>Huang, Y., Wu, H., Cai, Y., Dong, D., Yu, S., ...</td>\n",
       "      <td>huang2024-deepdrugmir</td>\n",
       "      <td>NaN</td>\n",
       "      <td>NaN</td>\n",
       "    </tr>\n",
       "    <tr>\n",
       "      <th>4</th>\n",
       "      <td>2021-01-01</td>\n",
       "      <td>MethHC 2.0: Information Repository of DNA Meth...</td>\n",
       "      <td>Nucleic Acids Research</td>\n",
       "      <td>NaN</td>\n",
       "      <td>Huang, H.-Y., Li, J., Tang, Y., Huang, Y.-X., ...</td>\n",
       "      <td>huang2021-methhc</td>\n",
       "      <td>NaN</td>\n",
       "      <td>NaN</td>\n",
       "    </tr>\n",
       "    <tr>\n",
       "      <th>5</th>\n",
       "      <td>2020-01-01</td>\n",
       "      <td>miRTarBase 2020: Updates to the Experimentally...</td>\n",
       "      <td>Nucleic Acids Research</td>\n",
       "      <td>NaN</td>\n",
       "      <td>Huang, H.-Y., Lin, Y.-C.-D., Li, J., Huang, K....</td>\n",
       "      <td>huang2020-mirtarbase</td>\n",
       "      <td>NaN</td>\n",
       "      <td>NaN</td>\n",
       "    </tr>\n",
       "    <tr>\n",
       "      <th>6</th>\n",
       "      <td>2022-01-02</td>\n",
       "      <td>miRTarBase Update 2022: An Informative Resourc...</td>\n",
       "      <td>Nucleic Acids Research</td>\n",
       "      <td>NaN</td>\n",
       "      <td>Huang, H.-Y., Lin, Y.-C.-D., Cui, S., Huang, Y...</td>\n",
       "      <td>huang2022-mirtarbase</td>\n",
       "      <td>NaN</td>\n",
       "      <td>NaN</td>\n",
       "    </tr>\n",
       "    <tr>\n",
       "      <th>7</th>\n",
       "      <td>2023-01-02</td>\n",
       "      <td>A Robust Drug--Target Interaction Prediction F...</td>\n",
       "      <td>International Journal of Molecular Sciences</td>\n",
       "      <td>NaN</td>\n",
       "      <td>Huang, Y., Huang, H.-Y., Chen, Y., Lin, Y.-C.-...</td>\n",
       "      <td>huang2023-capsule</td>\n",
       "      <td>NaN</td>\n",
       "      <td>NaN</td>\n",
       "    </tr>\n",
       "    <tr>\n",
       "      <th>8</th>\n",
       "      <td>2023-06-01</td>\n",
       "      <td>Panax notoginseng Alleviates Oxidative Stress ...</td>\n",
       "      <td>Chinese Medicine</td>\n",
       "      <td>NaN</td>\n",
       "      <td>Tang, Y., Chen, Y.-G., Huang, H.-Y., Li, S.-F....</td>\n",
       "      <td>tang2023-panax</td>\n",
       "      <td>NaN</td>\n",
       "      <td>NaN</td>\n",
       "    </tr>\n",
       "    <tr>\n",
       "      <th>9</th>\n",
       "      <td>2024-01-02</td>\n",
       "      <td>miRStart 2.0: Enhancing miRNA Regulatory Insig...</td>\n",
       "      <td>Nucleic Acids Research</td>\n",
       "      <td>NaN</td>\n",
       "      <td>Xu, J., Wan, J., Huang, H.-Y., Chen, Y., Huang...</td>\n",
       "      <td>xu2024-mirstart</td>\n",
       "      <td>NaN</td>\n",
       "      <td>NaN</td>\n",
       "    </tr>\n",
       "  </tbody>\n",
       "</table>\n",
       "</div>"
      ],
      "text/plain": [
       "     pub_date                                              title  \\\n",
       "0  2024-01-01  A Causal Regulation Modeling Algorithm for Tem...   \n",
       "1  2022-01-01  CircNet 2.0: An Updated Database for Exploring...   \n",
       "2  2023-01-01  Quantitative Model for Genome-Wide Cyclic AMP ...   \n",
       "3  2024-11-01  DeepDrugmiR: A Two-Stage Deep Learning Method ...   \n",
       "4  2021-01-01  MethHC 2.0: Information Repository of DNA Meth...   \n",
       "5  2020-01-01  miRTarBase 2020: Updates to the Experimentally...   \n",
       "6  2022-01-02  miRTarBase Update 2022: An Informative Resourc...   \n",
       "7  2023-01-02  A Robust Drug--Target Interaction Prediction F...   \n",
       "8  2023-06-01  Panax notoginseng Alleviates Oxidative Stress ...   \n",
       "9  2024-01-02  miRStart 2.0: Enhancing miRNA Regulatory Insig...   \n",
       "\n",
       "                                               venue  excerpt  \\\n",
       "0        International Journal of Molecular Sciences      NaN   \n",
       "1                             Nucleic Acids Research      NaN   \n",
       "2                        Briefings in Bioinformatics      NaN   \n",
       "3  Proceedings of the 15th ACM International Conf...      NaN   \n",
       "4                             Nucleic Acids Research      NaN   \n",
       "5                             Nucleic Acids Research      NaN   \n",
       "6                             Nucleic Acids Research      NaN   \n",
       "7        International Journal of Molecular Sciences      NaN   \n",
       "8                                   Chinese Medicine      NaN   \n",
       "9                             Nucleic Acids Research      NaN   \n",
       "\n",
       "                                            citation               url_slug  \\\n",
       "0  Chen, Y., Mao, R., Xu, J., Huang, Y., Xu, J., ...        chen2024-causal   \n",
       "1  Chen, Y., Yao, L., Tang, Y., Jhong, J.-H., Wan...       chen2022-circnet   \n",
       "2  Chen, Y., Lin, Y.-C.-D., Luo, Y., Cai, X., Qiu...           chen2023-crp   \n",
       "3  Huang, Y., Wu, H., Cai, Y., Dong, D., Yu, S., ...  huang2024-deepdrugmir   \n",
       "4  Huang, H.-Y., Li, J., Tang, Y., Huang, Y.-X., ...       huang2021-methhc   \n",
       "5  Huang, H.-Y., Lin, Y.-C.-D., Li, J., Huang, K....   huang2020-mirtarbase   \n",
       "6  Huang, H.-Y., Lin, Y.-C.-D., Cui, S., Huang, Y...   huang2022-mirtarbase   \n",
       "7  Huang, Y., Huang, H.-Y., Chen, Y., Lin, Y.-C.-...      huang2023-capsule   \n",
       "8  Tang, Y., Chen, Y.-G., Huang, H.-Y., Li, S.-F....         tang2023-panax   \n",
       "9  Xu, J., Wan, J., Huang, H.-Y., Chen, Y., Huang...        xu2024-mirstart   \n",
       "\n",
       "   paper_url  slides_url  \n",
       "0        NaN         NaN  \n",
       "1        NaN         NaN  \n",
       "2        NaN         NaN  \n",
       "3        NaN         NaN  \n",
       "4        NaN         NaN  \n",
       "5        NaN         NaN  \n",
       "6        NaN         NaN  \n",
       "7        NaN         NaN  \n",
       "8        NaN         NaN  \n",
       "9        NaN         NaN  "
      ]
     },
     "execution_count": 3,
     "metadata": {},
     "output_type": "execute_result"
    }
   ],
   "source": [
    "publications = pd.read_csv(\"my_pub.tsv\", sep=\"\\t\", header=0)\n",
    "publications\n"
   ]
  },
  {
   "cell_type": "markdown",
   "metadata": {},
   "source": [
    "## Escape special characters\n",
    "\n",
    "YAML is very picky about how it takes a valid string, so we are replacing single and double quotes (and ampersands) with their HTML encoded equivilents. This makes them look not so readable in raw format, but they are parsed and rendered nicely."
   ]
  },
  {
   "cell_type": "code",
   "execution_count": 4,
   "metadata": {
    "collapsed": true,
    "deletable": true,
    "editable": true
   },
   "outputs": [],
   "source": [
    "html_escape_table = {\n",
    "    \"&\": \"&amp;\",\n",
    "    '\"': \"&quot;\",\n",
    "    \"'\": \"&apos;\"\n",
    "    }\n",
    "\n",
    "def html_escape(text):\n",
    "    \"\"\"Produce entities within text.\"\"\"\n",
    "    return \"\".join(html_escape_table.get(c,c) for c in text)"
   ]
  },
  {
   "cell_type": "markdown",
   "metadata": {},
   "source": [
    "## Creating the markdown files\n",
    "\n",
    "This is where the heavy lifting is done. This loops through all the rows in the TSV dataframe, then starts to concatentate a big string (```md```) that contains the markdown for each type. It does the YAML metadata first, then does the description for the individual page."
   ]
  },
  {
   "cell_type": "code",
   "execution_count": 5,
   "metadata": {
    "collapsed": false,
    "deletable": true,
    "editable": true
   },
   "outputs": [],
   "source": [
    "import os\n",
    "for row, item in publications.iterrows():\n",
    "    \n",
    "    md_filename = str(item.pub_date) + \"-\" + item.url_slug + \".md\"\n",
    "    html_filename = str(item.pub_date) + \"-\" + item.url_slug\n",
    "    year = item.pub_date[:4]\n",
    "    \n",
    "    ## YAML variables\n",
    "    \n",
    "    md = \"---\\ntitle: \\\"\"   + item.title + '\"\\n'\n",
    "    \n",
    "    md += \"\"\"collection: publications\"\"\"\n",
    "    \n",
    "    md += \"\"\"\\npermalink: /publication/\"\"\" + html_filename\n",
    "    \n",
    "    if len(str(item.excerpt)) > 5:\n",
    "        md += \"\\nexcerpt: '\" + html_escape(item.excerpt) + \"'\"\n",
    "    \n",
    "    md += \"\\ndate: \" + str(item.pub_date) \n",
    "    \n",
    "    md += \"\\nvenue: '\" + html_escape(item.venue) + \"'\"\n",
    "    \n",
    "    if len(str(item.slides_url)) > 5:\n",
    "        md += \"\\nslidesurl: '\" + item.slides_url + \"'\"\n",
    "\n",
    "    if len(str(item.paper_url)) > 5:\n",
    "        md += \"\\npaperurl: '\" + item.paper_url + \"'\"\n",
    "    \n",
    "    md += \"\\ncitation: '\" + html_escape(item.citation) + \"'\"\n",
    "    \n",
    "    md += \"\\n---\"\n",
    "    \n",
    "    ## Markdown description for individual page\n",
    "        \n",
    "    if len(str(item.excerpt)) > 5:\n",
    "        md += \"\\n\" + html_escape(item.excerpt) + \"\\n\"\n",
    "\n",
    "    if len(str(item.slides_url)) > 5:\n",
    "        md += \"\\n[Download slides here](\" + item.slides_url + \")\\n\" \n",
    "\n",
    "    if len(str(item.paper_url)) > 5:\n",
    "        md += \"\\n[Download paper here](\" + item.paper_url + \")\\n\" \n",
    "        \n",
    "    md += \"\\nRecommended citation: \" + item.citation\n",
    "    \n",
    "    md_filename = os.path.basename(md_filename)\n",
    "       \n",
    "    with open(\"../_publications/\" + md_filename, 'w') as f:\n",
    "        f.write(md)"
   ]
  },
  {
   "cell_type": "markdown",
   "metadata": {},
   "source": [
    "These files are in the publications directory, one directory below where we're working from."
   ]
  },
  {
   "cell_type": "code",
   "execution_count": 15,
   "metadata": {
    "collapsed": false,
    "deletable": true,
    "editable": true
   },
   "outputs": [
    {
     "name": "stdout",
     "output_type": "stream",
     "text": [
      "2009-10-01-paper-title-number-1.md  2015-10-01-paper-title-number-3.md\n",
      "2010-10-01-paper-title-number-2.md  2024-02-17-paper-title-number-4.md\n"
     ]
    }
   ],
   "source": [
    "!ls ../_publications/"
   ]
  },
  {
   "cell_type": "code",
   "execution_count": 16,
   "metadata": {
    "collapsed": false,
    "deletable": true,
    "editable": true
   },
   "outputs": [
    {
     "name": "stdout",
     "output_type": "stream",
     "text": [
      "---\n",
      "title: \"Paper Title Number 1\"\n",
      "collection: publications\n",
      "permalink: /publication/2009-10-01-paper-title-number-1\n",
      "excerpt: 'This paper is about the number 1. The number 2 is left for future work.'\n",
      "date: 2009-10-01\n",
      "venue: 'Journal 1'\n",
      "slidesurl: 'http://academicpages.github.io/files/slides1.pdf'\n",
      "paperurl: 'http://academicpages.github.io/files/paper1.pdf'\n",
      "citation: 'Your Name, You. (2009). &quot;Paper Title Number 1.&quot; <i>Journal 1</i>. 1(1).'\n",
      "---\n",
      "This paper is about the number 1. The number 2 is left for future work.\n",
      "\n",
      "[Download slides here](http://academicpages.github.io/files/slides1.pdf)\n",
      "\n",
      "[Download paper here](http://academicpages.github.io/files/paper1.pdf)\n",
      "\n",
      "Recommended citation: Your Name, You. (2009). \"Paper Title Number 1.\" <i>Journal 1</i>. 1(1)."
     ]
    }
   ],
   "source": [
    "!cat ../_publications/2009-10-01-paper-title-number-1.md"
   ]
  },
  {
   "cell_type": "code",
   "execution_count": null,
   "metadata": {
    "collapsed": true,
    "deletable": true,
    "editable": true
   },
   "outputs": [],
   "source": []
  }
 ],
 "metadata": {
  "kernelspec": {
   "display_name": "python",
   "language": "python",
   "name": "python3"
  },
  "language_info": {
   "codemirror_mode": {
    "name": "ipython",
    "version": 3
   },
   "file_extension": ".py",
   "mimetype": "text/x-python",
   "name": "python",
   "nbconvert_exporter": "python",
   "pygments_lexer": "ipython3",
   "version": "3.12.8"
  }
 },
 "nbformat": 4,
 "nbformat_minor": 0
}
